{
  "nbformat": 4,
  "nbformat_minor": 0,
  "metadata": {
    "colab": {
      "provenance": [],
      "authorship_tag": "ABX9TyNQZz3Yg2U40DG+MFsLQbUc",
      "include_colab_link": true
    },
    "kernelspec": {
      "name": "python3",
      "display_name": "Python 3"
    },
    "language_info": {
      "name": "python"
    }
  },
  "cells": [
    {
      "cell_type": "markdown",
      "metadata": {
        "id": "view-in-github",
        "colab_type": "text"
      },
      "source": [
        "<a href=\"https://colab.research.google.com/github/shivakumar0001/AD/blob/main/linearRegression_.ipynb\" target=\"_parent\"><img src=\"https://colab.research.google.com/assets/colab-badge.svg\" alt=\"Open In Colab\"/></a>"
      ]
    },
    {
      "cell_type": "code",
      "execution_count": null,
      "metadata": {
        "id": "lOKcwmQK6F0O"
      },
      "outputs": [],
      "source": [
        "y = cab price\n",
        "m=overall cost per item or a distance travelled\n",
        "x= no of distance travelled or no of items\n",
        "b= fare or other charges like labour electricty\n",
        "Uber CAB :\n",
        "b=50\n",
        "m=35\n",
        "x=20\n",
        "y=35(20)+50\n",
        "y=925\n",
        "\n",
        "Ola Cab :\n",
        "b=25\n",
        "m=50\n",
        "x=20\n",
        "y=50(20)+25\n",
        "Y=1025"
      ]
    }
  ]
}