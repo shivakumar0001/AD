{
  "nbformat": 4,
  "nbformat_minor": 0,
  "metadata": {
    "colab": {
      "provenance": [],
      "authorship_tag": "ABX9TyNTntkWCkOrC9RL+u+nyplb",
      "include_colab_link": true
    },
    "kernelspec": {
      "name": "python3",
      "display_name": "Python 3"
    },
    "language_info": {
      "name": "python"
    }
  },
  "cells": [
    {
      "cell_type": "markdown",
      "metadata": {
        "id": "view-in-github",
        "colab_type": "text"
      },
      "source": [
        "<a href=\"https://colab.research.google.com/github/shivakumar0001/AD/blob/main/Feature_Engineering.ipynb\" target=\"_parent\"><img src=\"https://colab.research.google.com/assets/colab-badge.svg\" alt=\"Open In Colab\"/></a>"
      ]
    },
    {
      "cell_type": "code",
      "execution_count": null,
      "metadata": {
        "colab": {
          "base_uri": "https://localhost:8080/"
        },
        "id": "Req0OfLgHtSq",
        "outputId": "22842b09-8306-49fc-e032-6add8327158f"
      },
      "outputs": [
        {
          "output_type": "stream",
          "name": "stdout",
          "text": [
            "['preg', 'plas', 'pres', 'skin', 'test', 'mass', 'pedi', 'age']\n",
            "     preg  plas  pres  skin  test  mass   pedi  age  class\n",
            "0       6   148    72    35     0  33.6  0.627   50      1\n",
            "1       1    85    66    29     0  26.6  0.351   31      0\n",
            "2       8   183    64     0     0  23.3  0.672   32      1\n",
            "3       1    89    66    23    94  28.1  0.167   21      0\n",
            "4       0   137    40    35   168  43.1  2.288   33      1\n",
            "..    ...   ...   ...   ...   ...   ...    ...  ...    ...\n",
            "763    10   101    76    48   180  32.9  0.171   63      0\n",
            "764     2   122    70    27     0  36.8  0.340   27      0\n",
            "765     5   121    72    23   112  26.2  0.245   30      0\n",
            "766     1   126    60     0     0  30.1  0.349   47      1\n",
            "767     1    93    70    31     0  30.4  0.315   23      0\n",
            "\n",
            "[768 rows x 9 columns]\n",
            "['preg', 'plas', 'pres', 'skin', 'test', 'mass', 'pedi', 'age']\n",
            "[ 111.52  1411.887   17.605   53.108 2175.565  127.669    5.393  181.304]\n"
          ]
        }
      ],
      "source": [
        "from pandas import read_csv\n",
        "from numpy import set_printoptions\n",
        "from sklearn.feature_selection import SelectKBest\n",
        "from sklearn.feature_selection import chi2\n",
        "import pandas as pd\n",
        "filename = '/content/pima-indians-diabetes.data.csv'\n",
        "names = ['preg', 'plas', 'pres','skin', 'test', 'mass', 'pedi', 'age','class']\n",
        "name = ['preg', \"plas\", 'pres','skin', 'test', 'mass', 'pedi','age' ]\n",
        "print(name)\n",
        "dataframe = read_csv(filename, names=names)\n",
        "print(dataframe)\n",
        "array = dataframe.values\n",
        "X = array[: , 0:8]\n",
        "Y = array[:,8]\n",
        "test = SelectKBest(score_func=chi2, k=5)\n",
        "fit = test.fit(X, Y)\n",
        "print(name)\n",
        "set_printoptions(precision=3)\n",
        "print(fit.scores_)\n",
        "features = fit.transform(X)"
      ]
    },
    {
      "cell_type": "markdown",
      "source": [
        "**RECURSIVE FEATURES ELIMINITION**"
      ],
      "metadata": {
        "id": "5xMq09sMJcrn"
      }
    },
    {
      "cell_type": "code",
      "source": [
        "from pandas import read_csv\n",
        "from sklearn.feature_selection import RFE\n",
        "from sklearn.linear_model import LogisticRegression\n",
        "\n",
        "filename = '/content/pima-indians-diabetes.data.csv'\n",
        "names = ['preg', 'plas', 'pres', 'skin', 'test', 'mass', 'pedi', 'age', 'class']\n",
        "dataframe = read_csv(filename, names=names)\n",
        "\n",
        "array = dataframe.values\n",
        "X = array[:, 0:8]\n",
        "Y = array[:,8]\n",
        "\n",
        "model = LogisticRegression(max_iter=400)\n",
        "\n",
        "rfe = RFE(estimator=model, n_features_to_select=3)\n",
        "\n",
        "fit = rfe.fit(X, Y)\n",
        "...\n",
        "\n"
      ],
      "metadata": {
        "id": "vclz7Fk9LLvE"
      },
      "execution_count": null,
      "outputs": []
    },
    {
      "cell_type": "code",
      "source": [
        "fit.support_"
      ],
      "metadata": {
        "colab": {
          "base_uri": "https://localhost:8080/"
        },
        "id": "MFzg_OHtL1qG",
        "outputId": "fde8abff-0e6c-4a25-d539-06aea8a4c44e"
      },
      "execution_count": null,
      "outputs": [
        {
          "output_type": "execute_result",
          "data": {
            "text/plain": [
              "array([ True, False, False, False, False,  True,  True, False])"
            ]
          },
          "metadata": {},
          "execution_count": 12
        }
      ]
    },
    {
      "cell_type": "code",
      "source": [
        "fit.ranking_"
      ],
      "metadata": {
        "colab": {
          "base_uri": "https://localhost:8080/"
        },
        "id": "8ZoZqjkxL7V3",
        "outputId": "031c1b10-c70f-48ad-c72c-717ced542b50"
      },
      "execution_count": null,
      "outputs": [
        {
          "output_type": "execute_result",
          "data": {
            "text/plain": [
              "array([1, 2, 4, 6, 5, 1, 1, 3])"
            ]
          },
          "metadata": {},
          "execution_count": 13
        }
      ]
    },
    {
      "cell_type": "code",
      "source": [
        "\n",
        "from pandas import read_csv\n",
        "from pandas import read_csv\n",
        "from sklearn.tree import DecisionTreeClassifier\n",
        "# load data\n",
        "filename = \"/content/pima-indians-diabetes.data.csv\"\n",
        "names = ['preg', 'plas', 'pres', 'skin', 'test', 'mass', 'pedi', 'age', 'class']\n",
        "print(names)\n",
        "dataframe = read_csv(filename, names=names)\n",
        "array = dataframe.values\n",
        "X = array[:, 0:8]\n",
        "Y = array[:, 8]\n",
        "model = DecisionTreeClassifier()\n",
        "model.fit(X, Y)\n",
        "print(model.feature_importances_)\n",
        "#['preg', 'plas', 'pres', 'skin', 'test', 'mass', 'pedi', 'age', 'class']\n",
        "#[0.063 0.311 0.095 0.015 0.029 0.242 0.129 0.117]\n",
        "dataframe = read_csv(filename, names=names)\n",
        "array = dataframe.values\n",
        "X = array[:, 0:8]\n",
        "Y = array[:, 8]\n",
        "model = DecisionTreeClassifier()\n",
        "model.fit(X, Y)\n",
        "print(model.feature_importances_)\n",
        "#['preg', 'plas', 'pres', 'skin', 'test', 'mass', 'pedi', 'age', 'class']\n",
        "#[0.063 0.311 0.095 0.015 0.029 0.242 0.129 0.117]"
      ],
      "metadata": {
        "colab": {
          "base_uri": "https://localhost:8080/"
        },
        "id": "zQHQI4HlMWXy",
        "outputId": "54446824-0f01-4703-ee5c-738bb451a0cd"
      },
      "execution_count": null,
      "outputs": [
        {
          "output_type": "stream",
          "name": "stdout",
          "text": [
            "['preg', 'plas', 'pres', 'skin', 'test', 'mass', 'pedi', 'age', 'class']\n",
            "[0.043 0.325 0.099 0.031 0.025 0.22  0.128 0.129]\n",
            "[0.048 0.307 0.099 0.029 0.033 0.236 0.133 0.115]\n"
          ]
        }
      ]
    }
  ]
}