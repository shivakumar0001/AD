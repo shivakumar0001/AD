{
  "nbformat": 4,
  "nbformat_minor": 0,
  "metadata": {
    "colab": {
      "provenance": [],
      "mount_file_id": "1xZ9dM6v93e9CnYdtqARcS7OO4Pul6TQs",
      "authorship_tag": "ABX9TyON6wE8oXmQ4SjM/xNR2Obp",
      "include_colab_link": true
    },
    "kernelspec": {
      "name": "python3",
      "display_name": "Python 3"
    },
    "language_info": {
      "name": "python"
    }
  },
  "cells": [
    {
      "cell_type": "markdown",
      "metadata": {
        "id": "view-in-github",
        "colab_type": "text"
      },
      "source": [
        "<a href=\"https://colab.research.google.com/github/shivakumar0001/AD/blob/main/Untitled4.ipynb\" target=\"_parent\"><img src=\"https://colab.research.google.com/assets/colab-badge.svg\" alt=\"Open In Colab\"/></a>"
      ]
    },
    {
      "cell_type": "code",
      "source": [
        "import pandas as pd\n",
        "\n",
        "screen_time = [0, 2, 3, 5, 4]\n",
        "stu_name = [\"aa\", \"bb\", \"cc\", \"dd\", \"ee\"]\n",
        "id = [2, 6, 7, 8, 9]\n",
        "\n",
        "dict1 = {\"screen_time\": screen_time, \"stu_name\": stu_name, \"id\": id}\n",
        "print(dict1)\n",
        "df = pd.DataFrame(dict1)\n",
        "print(df)"
      ],
      "metadata": {
        "colab": {
          "base_uri": "https://localhost:8080/"
        },
        "id": "DZF55N8Eq4ZY",
        "outputId": "3b238028-0c0a-4d88-c31e-260d1e0e8549"
      },
      "execution_count": 2,
      "outputs": [
        {
          "output_type": "stream",
          "name": "stdout",
          "text": [
            "{'screen_time': [0, 2, 3, 5, 4], 'stu_name': ['aa', 'bb', 'cc', 'dd', 'ee'], 'id': [2, 6, 7, 8, 9]}\n",
            "   screen_time stu_name  id\n",
            "0            0       aa   2\n",
            "1            2       bb   6\n",
            "2            3       cc   7\n",
            "3            5       dd   8\n",
            "4            4       ee   9\n"
          ]
        }
      ]
    }
  ]
}