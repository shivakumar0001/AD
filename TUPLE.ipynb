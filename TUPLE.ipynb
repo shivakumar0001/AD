{
  "nbformat": 4,
  "nbformat_minor": 0,
  "metadata": {
    "colab": {
      "provenance": [],
      "authorship_tag": "ABX9TyN6E9tyg+cbx2X2Fy9txrDX",
      "include_colab_link": true
    },
    "kernelspec": {
      "name": "python3",
      "display_name": "Python 3"
    },
    "language_info": {
      "name": "python"
    }
  },
  "cells": [
    {
      "cell_type": "markdown",
      "metadata": {
        "id": "view-in-github",
        "colab_type": "text"
      },
      "source": [
        "<a href=\"https://colab.research.google.com/github/shivakumar0001/AD/blob/main/TUPLE.ipynb\" target=\"_parent\"><img src=\"https://colab.research.google.com/assets/colab-badge.svg\" alt=\"Open In Colab\"/></a>"
      ]
    },
    {
      "cell_type": "code",
      "execution_count": 1,
      "metadata": {
        "id": "UibHMrhK4h5P",
        "colab": {
          "base_uri": "https://localhost:8080/"
        },
        "outputId": "b7cdb569-3fe3-4083-bf42-a71db1f7cba5"
      },
      "outputs": [
        {
          "output_type": "stream",
          "name": "stdout",
          "text": [
            "1\n",
            "hello\n",
            "5\n",
            "1\n",
            "2\n",
            "3\n",
            "hello\n",
            "3.14\n",
            "(1, 2, 3, 'hello', 3.14, 4, 5, 6)\n",
            "hello is present in the tuple\n"
          ]
        }
      ],
      "source": [
        "# prompt: TUPLE EXAMPLE\n",
        "\n",
        "# Tuple example\n",
        "my_tuple = (1, 2, 3, \"hello\", 3.14)\n",
        "\n",
        "# Accessing elements\n",
        "print(my_tuple[0])  # Output: 1\n",
        "print(my_tuple[3])  # Output: hello\n",
        "\n",
        "# Tuple length\n",
        "print(len(my_tuple)) # Output: 5\n",
        "\n",
        "# Iteration\n",
        "for item in my_tuple:\n",
        "  print(item)\n",
        "\n",
        "# Concatenation\n",
        "tuple2 = (4, 5, 6)\n",
        "combined_tuple = my_tuple + tuple2\n",
        "print(combined_tuple)\n",
        "\n",
        "# Check if an element exists\n",
        "if \"hello\" in my_tuple:\n",
        "    print(\"hello is present in the tuple\")\n",
        "\n",
        "# Note: Tuples are immutable, you cannot modify their elements after creation.\n",
        "# Trying to do my_tuple[0] = 5 would result in a TypeError.\n"
      ]
    },
    {
      "cell_type": "code",
      "source": [
        "# prompt: MORE EXAMPLES\n",
        "\n",
        "# Tuple example\n",
        "my_tuple = (1, 2, 3, \"hello\", 3.14)\n",
        "\n",
        "# Accessing elements\n",
        "print(my_tuple[0])  # Output: 1\n",
        "print(my_tuple[3])  # Output: hello\n",
        "\n",
        "# Tuple length\n",
        "print(len(my_tuple)) # Output: 5\n",
        "\n",
        "# Iteration\n",
        "for item in my_tuple:\n",
        "  print(item)\n",
        "\n",
        "# Concatenation\n",
        "tuple2 = (4, 5, 6)\n",
        "combined_tuple = my_tuple + tuple2\n",
        "print(combined_tuple)\n",
        "\n",
        "# Check if an element exists\n",
        "if \"hello\" in my_tuple:\n",
        "    print(\"hello is present in the tuple\")\n",
        "\n",
        "# Note: Tuples are immutable, you cannot modify their elements after creation.\n",
        "# Trying to do my_tuple[0] = 5 would result in a TypeError.\n",
        "\n",
        "# Example of tuple methods:\n",
        "print(my_tuple.count(3)) # Output: 1 (counts the number of times 3 appears)\n",
        "print(my_tuple.index(\"hello\")) # Output: 3 (returns the index of the first occurrence of \"hello\")\n",
        "\n",
        "# Slicing a tuple\n",
        "print(my_tuple[1:4]) # Output: (2, 3, 'hello') - elements from index 1 up to (but not including) index 4\n",
        "\n",
        "# Nested tuples\n",
        "nested_tuple = ((1,2), (3,4), (5,6))\n",
        "print(nested_tuple[1][0]) # Output: 3 - access the first element of the second tuple within nested_tuple\n",
        "\n",
        "\n",
        "# Tuple unpacking\n",
        "a, b, c, d, e = my_tuple\n",
        "print(a) # Output: 1\n",
        "print(b) # Output: 2\n",
        "print(c) # Output: 3\n",
        "print(d) # Output: hello\n",
        "print(e) # Output: 3.14"
      ],
      "metadata": {
        "colab": {
          "base_uri": "https://localhost:8080/"
        },
        "id": "gfkV3RDkmHy0",
        "outputId": "d47a1a1c-79ba-40dd-e816-67928734bffb"
      },
      "execution_count": 2,
      "outputs": [
        {
          "output_type": "stream",
          "name": "stdout",
          "text": [
            "1\n",
            "hello\n",
            "5\n",
            "1\n",
            "2\n",
            "3\n",
            "hello\n",
            "3.14\n",
            "(1, 2, 3, 'hello', 3.14, 4, 5, 6)\n",
            "hello is present in the tuple\n",
            "1\n",
            "3\n",
            "(2, 3, 'hello')\n",
            "3\n",
            "1\n",
            "2\n",
            "3\n",
            "hello\n",
            "3.14\n"
          ]
        }
      ]
    }
  ]
}