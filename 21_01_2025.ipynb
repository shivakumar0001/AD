{
  "nbformat": 4,
  "nbformat_minor": 0,
  "metadata": {
    "colab": {
      "provenance": [],
      "authorship_tag": "ABX9TyPkHvPszCQfMRAYhdZcX22o",
      "include_colab_link": true
    },
    "kernelspec": {
      "name": "python3",
      "display_name": "Python 3"
    },
    "language_info": {
      "name": "python"
    }
  },
  "cells": [
    {
      "cell_type": "markdown",
      "metadata": {
        "id": "view-in-github",
        "colab_type": "text"
      },
      "source": [
        "<a href=\"https://colab.research.google.com/github/shivakumar0001/AD/blob/main/21_01_2025.ipynb\" target=\"_parent\"><img src=\"https://colab.research.google.com/assets/colab-badge.svg\" alt=\"Open In Colab\"/></a>"
      ]
    },
    {
      "cell_type": "code",
      "execution_count": null,
      "metadata": {
        "colab": {
          "base_uri": "https://localhost:8080/"
        },
        "id": "omDtFpUt_zX_",
        "outputId": "4f52c2b0-2a05-4a3a-a7dc-a90f9072998e"
      },
      "outputs": [
        {
          "output_type": "stream",
          "name": "stdout",
          "text": [
            "Sales DataFrame:\n",
            "   TransactionID  CustomerID  Amount        Date\n",
            "0              1         101     250  2025-01-01\n",
            "1              2         102     300  2025-01-02\n",
            "2              3         103     400  2025-01-03\n",
            "3              4         104     500  2025-01-04\n",
            "4              5         101     600  2025-01-05\n",
            "\n",
            "Shape of sales data: (5, 4)\n",
            "\n",
            "Sales data statistics:\n",
            "       TransactionID  CustomerID      Amount\n",
            "count       5.000000     5.00000    5.000000\n",
            "mean        3.000000   102.20000  410.000000\n",
            "std         1.581139     1.30384  143.178211\n",
            "min         1.000000   101.00000  250.000000\n",
            "25%         2.000000   101.00000  300.000000\n",
            "50%         3.000000   102.00000  400.000000\n",
            "75%         4.000000   103.00000  500.000000\n",
            "max         5.000000   104.00000  600.000000\n",
            "Sales dataframe    TransactionID  CustomerID  Amount        Date\n",
            "0              1         101     250  2025-01-01\n",
            "1              2         102     300  2025-01-02\n",
            "2              3         103     400  2025-01-03\n",
            "3              4         104     500  2025-01-04\n",
            "4              5         101     600  2025-01-05\n",
            "customers_df    CustomerID CustomerName  Age         City\n",
            "0         101        Alice   30     New York\n",
            "1         102          Bob   35  Los Angeles\n",
            "2         103      Charlie   40      Chicago\n",
            "3         104        David   25      Houston\n"
          ]
        }
      ],
      "source": [
        "import pandas as pd\n",
        "\n",
        "# Sample data for sales transactions and customer information\n",
        "sales_data = {\n",
        "    'TransactionID': [1, 2, 3, 4, 5],\n",
        "    'CustomerID': [101, 102, 103, 104, 101],\n",
        "    'Amount': [250, 300, 400, 500, 600],\n",
        "    'Date': ['2025-01-01', '2025-01-02', '2025-01-03', '2025-01-04', '2025-01-05']\n",
        "} # Display Amount and Date from sales data\n",
        "customer_data = {\n",
        "    'CustomerID': [101, 102, 103, 104],\n",
        "    'CustomerName': ['Alice', 'Bob', 'Charlie', 'David'],\n",
        "    'Age': [30, 35, 40, 25],\n",
        "    'City': ['New York', 'Los Angeles', 'Chicago', 'Houston']\n",
        "}# Display Customer name and city from customer data\n",
        "# Display customer ids  with amount>400\n",
        "# Convert data into DataFrame\n",
        "sales_df = pd.DataFrame(sales_data)\n",
        "customers_df = pd.DataFrame(customer_data)\n",
        "# Show basic structure of sales_df\n",
        "print(\"Sales DataFrame:\")\n",
        "print(sales_df.head())\n",
        "\n",
        "# 1. Exploring the dataset (using shape and describe)\n",
        "print(\"\\nShape of sales data:\", sales_df.shape)  # Get number of rows and columns\n",
        "print(\"\\nSales data statistics:\")\n",
        "print(sales_df.describe())  # Summary statistics\n",
        "print(\"Sales dataframe\",sales_df)\n",
        "print(\"customers_df\",customers_df)\n",
        "\n",
        "#   Filter a dataframe of sales dataframe where sales amount >400\n",
        "#display(data.loc[(data.Brand == 'Maruti') & (data.Year == 2012)])\n"
      ]
    },
    {
      "cell_type": "code",
      "source": [
        "# 2. Merging data (Sales with Customer info)\n",
        "merged_df = pd.merge(sales_df, customers_df, on='CustomerID', how='inner')\n",
        "print(\"\\nMerged DataFrame:\")\n",
        "print(merged_df)\n"
      ],
      "metadata": {
        "colab": {
          "base_uri": "https://localhost:8080/"
        },
        "id": "5yUZ2yaJBJg4",
        "outputId": "f9005640-aa71-4dde-f03d-09a0342088bd"
      },
      "execution_count": null,
      "outputs": [
        {
          "output_type": "stream",
          "name": "stdout",
          "text": [
            "\n",
            "Merged DataFrame:\n",
            "   TransactionID  CustomerID  Amount        Date CustomerName  Age  \\\n",
            "0              1         101     250  2025-01-01        Alice   30   \n",
            "1              2         102     300  2025-01-02          Bob   35   \n",
            "2              3         103     400  2025-01-03      Charlie   40   \n",
            "3              4         104     500  2025-01-04        David   25   \n",
            "4              5         101     600  2025-01-05        Alice   30   \n",
            "\n",
            "          City  \n",
            "0     New York  \n",
            "1  Los Angeles  \n",
            "2      Chicago  \n",
            "3      Houston  \n",
            "4     New York  \n"
          ]
        }
      ]
    },
    {
      "cell_type": "code",
      "source": [
        "# 2. Merging data (Sales with Customer info)\n",
        "merged_df = pd.merge(sales_df, customers_df, on='CustomerID', how='inner')\n",
        "print(\"\\nMerged DataFrame:\")\n",
        "print(merged_df)\n",
        "\n",
        "# 3. Accessing data using `loc` and `iloc`\n",
        "print(\"\\nAccess data using `loc` (row 1):\")\n",
        "print(merged_df.loc[1])\n",
        "\n",
        "print(\"\\nAccess data using `iloc` (row 2):\")\n",
        "print(merged_df.iloc[2])\n",
        "\n",
        "# 4. Handling Missing Values\n",
        "# Let's introduce some missing data for demonstration\n",
        "merged_df.loc[2, 'Age'] = None  # Introduce missing value in Age column\n",
        "print(merged_df)\n",
        "# Check for missing values\n",
        "print(\"\\nCheck missing values (isnull):\")\n",
        "print(merged_df.isnull().sum())\n",
        "\n",
        "# Fill missing values with the mean (for Age column)\n",
        "merged_df['Age'].fillna(merged_df['Age'].mean(), inplace=True)\n",
        "print(\"\\nData after filling missing values:\")\n",
        "print(merged_df)\n",
        "\n",
        "# 5. Aggregation: Calculate the mean sales per customer\n",
        "mean_sales = merged_df.groupby('CustomerName')['Amount'].mean()\n",
        "print(\"\\nMean sales per customer:\")\n",
        "print(mean_sales)\n"
      ],
      "metadata": {
        "colab": {
          "base_uri": "https://localhost:8080/"
        },
        "id": "JOvIHjZJBPOY",
        "outputId": "6727f654-b06b-440c-8729-462bac05f112"
      },
      "execution_count": null,
      "outputs": [
        {
          "output_type": "stream",
          "name": "stdout",
          "text": [
            "\n",
            "Merged DataFrame:\n",
            "   TransactionID  CustomerID  Amount        Date CustomerName  Age  \\\n",
            "0              1         101     250  2025-01-01        Alice   30   \n",
            "1              2         102     300  2025-01-02          Bob   35   \n",
            "2              3         103     400  2025-01-03      Charlie   40   \n",
            "3              4         104     500  2025-01-04        David   25   \n",
            "4              5         101     600  2025-01-05        Alice   30   \n",
            "\n",
            "          City  \n",
            "0     New York  \n",
            "1  Los Angeles  \n",
            "2      Chicago  \n",
            "3      Houston  \n",
            "4     New York  \n",
            "\n",
            "Access data using `loc` (row 1):\n",
            "TransactionID              2\n",
            "CustomerID               102\n",
            "Amount                   300\n",
            "Date              2025-01-02\n",
            "CustomerName             Bob\n",
            "Age                       35\n",
            "City             Los Angeles\n",
            "Name: 1, dtype: object\n",
            "\n",
            "Access data using `iloc` (row 2):\n",
            "TransactionID             3\n",
            "CustomerID              103\n",
            "Amount                  400\n",
            "Date             2025-01-03\n",
            "CustomerName        Charlie\n",
            "Age                      40\n",
            "City                Chicago\n",
            "Name: 2, dtype: object\n",
            "   TransactionID  CustomerID  Amount        Date CustomerName   Age  \\\n",
            "0              1         101     250  2025-01-01        Alice  30.0   \n",
            "1              2         102     300  2025-01-02          Bob  35.0   \n",
            "2              3         103     400  2025-01-03      Charlie   NaN   \n",
            "3              4         104     500  2025-01-04        David  25.0   \n",
            "4              5         101     600  2025-01-05        Alice  30.0   \n",
            "\n",
            "          City  \n",
            "0     New York  \n",
            "1  Los Angeles  \n",
            "2      Chicago  \n",
            "3      Houston  \n",
            "4     New York  \n",
            "\n",
            "Check missing values (isnull):\n",
            "TransactionID    0\n",
            "CustomerID       0\n",
            "Amount           0\n",
            "Date             0\n",
            "CustomerName     0\n",
            "Age              1\n",
            "City             0\n",
            "dtype: int64\n",
            "\n",
            "Data after filling missing values:\n",
            "   TransactionID  CustomerID  Amount        Date CustomerName   Age  \\\n",
            "0              1         101     250  2025-01-01        Alice  30.0   \n",
            "1              2         102     300  2025-01-02          Bob  35.0   \n",
            "2              3         103     400  2025-01-03      Charlie  30.0   \n",
            "3              4         104     500  2025-01-04        David  25.0   \n",
            "4              5         101     600  2025-01-05        Alice  30.0   \n",
            "\n",
            "          City  \n",
            "0     New York  \n",
            "1  Los Angeles  \n",
            "2      Chicago  \n",
            "3      Houston  \n",
            "4     New York  \n",
            "\n",
            "Mean sales per customer:\n",
            "CustomerName\n",
            "Alice      425.0\n",
            "Bob        300.0\n",
            "Charlie    400.0\n",
            "David      500.0\n",
            "Name: Amount, dtype: float64\n"
          ]
        },
        {
          "output_type": "stream",
          "name": "stderr",
          "text": [
            "<ipython-input-3-489e870a32fb>:22: FutureWarning: A value is trying to be set on a copy of a DataFrame or Series through chained assignment using an inplace method.\n",
            "The behavior will change in pandas 3.0. This inplace method will never work because the intermediate object on which we are setting values always behaves as a copy.\n",
            "\n",
            "For example, when doing 'df[col].method(value, inplace=True)', try using 'df.method({col: value}, inplace=True)' or df[col] = df[col].method(value) instead, to perform the operation inplace on the original object.\n",
            "\n",
            "\n",
            "  merged_df['Age'].fillna(merged_df['Age'].mean(), inplace=True)\n"
          ]
        }
      ]
    },
    {
      "cell_type": "code",
      "source": [
        "# Create a Dataframe for Patient Information  and include column names as below\n",
        "#1)Patient Name\n",
        "#2) Age\n",
        "#3) Date of oppointment\n",
        "#4) Patient id\n",
        "#Create a dataframe name as drag_quantity that includes column names as  drag name,quantity,patient_id\n",
        "# Filter dataframe  to get Patient name and age <6\n",
        "\n",
        "#Merge the dataframes with inner join of Patient information and drag quantity dataframe\n",
        "\n",
        "\n",
        "\n"
      ],
      "metadata": {
        "id": "KVauj4wgBdvd"
      },
      "execution_count": null,
      "outputs": []
    },
    {
      "cell_type": "code",
      "source": [
        "import pandas as pd\n",
        "\n",
        "patient_info = pd.DataFrame({\n",
        "    'Patient Name': ['Alice', 'Bob', 'Charlie', 'Daisy', 'Ella'],\n",
        "    'Age': [4, 28, 3, 45, 2],\n",
        "    'Date of Appointment': ['2025-01-20', '2025-01-21', '2025-01-22', '2025-01-23', '2025-01-24'],\n",
        "    'Patient ID': [101, 102, 103, 104, 105]\n",
        "})\n",
        "\n",
        "\n",
        "drag_quantity = pd.DataFrame({\n",
        "    'Drag Name': ['Paracetamol', 'Amoxicillin', 'Ibuprofen', 'Cetrizine', 'Vitamin C'],\n",
        "    'Quantity': [10, 5, 12, 8, 6],\n",
        "    'Patient ID': [101, 103, 104, 102, 105]\n",
        "})\n",
        "\n",
        "\n",
        "filtered_patients = patient_info[patient_info['Age'] < 6][['Patient Name', 'Age']]\n",
        "\n",
        "\n",
        "merged_data = pd.merge(patient_info, drag_quantity, on='Patient ID', how='inner')\n",
        "\n",
        "\n",
        "print(\"Patient Information DataFrame:\")\n",
        "print(patient_info)\n",
        "print(\"\\nDrag Quantity DataFrame:\")\n",
        "print(drag_quantity)\n",
        "print(\"\\nFiltered Patients (Age < 6):\")\n",
        "print(filtered_patients)\n",
        "print(\"\\nMerged DataFrame:\")\n",
        "print(merged_data)\n"
      ],
      "metadata": {
        "colab": {
          "base_uri": "https://localhost:8080/"
        },
        "id": "NRsZcJpaDzhr",
        "outputId": "2fe8b9ee-68d7-428f-ffd1-1346b1944665"
      },
      "execution_count": null,
      "outputs": [
        {
          "output_type": "stream",
          "name": "stdout",
          "text": [
            "Patient Information DataFrame:\n",
            "  Patient Name  Age Date of Appointment  Patient ID\n",
            "0        Alice    4          2025-01-20         101\n",
            "1          Bob   28          2025-01-21         102\n",
            "2      Charlie    3          2025-01-22         103\n",
            "3        Daisy   45          2025-01-23         104\n",
            "4         Ella    2          2025-01-24         105\n",
            "\n",
            "Drag Quantity DataFrame:\n",
            "     Drag Name  Quantity  Patient ID\n",
            "0  Paracetamol        10         101\n",
            "1  Amoxicillin         5         103\n",
            "2    Ibuprofen        12         104\n",
            "3    Cetrizine         8         102\n",
            "4    Vitamin C         6         105\n",
            "\n",
            "Filtered Patients (Age < 6):\n",
            "  Patient Name  Age\n",
            "0        Alice    4\n",
            "2      Charlie    3\n",
            "4         Ella    2\n",
            "\n",
            "Merged DataFrame:\n",
            "  Patient Name  Age Date of Appointment  Patient ID    Drag Name  Quantity\n",
            "0        Alice    4          2025-01-20         101  Paracetamol        10\n",
            "1          Bob   28          2025-01-21         102    Cetrizine         8\n",
            "2      Charlie    3          2025-01-22         103  Amoxicillin         5\n",
            "3        Daisy   45          2025-01-23         104    Ibuprofen        12\n",
            "4         Ella    2          2025-01-24         105    Vitamin C         6\n"
          ]
        }
      ]
    },
    {
      "cell_type": "code",
      "source": [
        "import pandas as pd\n",
        "\n",
        "# Sample data for sales transactions and customer information\n",
        "sales_data = {\n",
        "    'TransactionID': [1, 2, 3, 4, 5],\n",
        "    'CustomerID': [101, 102, 103, 104, 101],\n",
        "    'Amount': [250, 300, 400, 500, 600],\n",
        "    'Date': ['2025-01-01', '2025-01-02', '2025-01-03', '2025-01-04', '2025-01-05']\n",
        "} # Display Amount and Date from sales data\n",
        "customer_data = {\n",
        "    'CustomerID': [101, 102, 103, 104],\n",
        "    'CustomerName': ['Alice', 'Bob', 'Charlie', 'David'],\n",
        "    'Age': [30, 35, 40, 25],\n",
        "    'City': ['New York', 'Los Angeles', 'Chicago', 'Houston']\n",
        "}# Display Customer name and city from customer data\n",
        "# Display customer ids  with amount>400\n",
        "# Convert data into DataFrame\n",
        "sales_df = pd.DataFrame(sales_data)\n",
        "customers_df = pd.DataFrame(customer_data)\n",
        "# Show basic structure of sales_df\n",
        "print(\"Sales DataFrame:\")\n",
        "print(sales_df.head())\n",
        "\n",
        "# 1. Exploring the dataset (using shape and describe)\n",
        "print(\"\\nShape of sales data:\", sales_df.shape)  # Get number of rows and columns\n",
        "print(\"\\nSales data statistics:\")\n",
        "print(sales_df.describe())  # Summary statistics\n",
        "print(\"Sales dataframe\",sales_df)\n",
        "print(\"customers_df\",customers_df)\n",
        "\n",
        "#   Filter a dataframe of sales dataframe where sales amount >400\n",
        "#display(data.loc[(data.Brand == 'Maruti') & (data.Year == 2012)])\n"
      ],
      "metadata": {
        "colab": {
          "base_uri": "https://localhost:8080/"
        },
        "id": "dRgY7BBIEBJh",
        "outputId": "05a9ab84-7787-4094-cba5-e875b5099897"
      },
      "execution_count": null,
      "outputs": [
        {
          "output_type": "stream",
          "name": "stdout",
          "text": [
            "Sales DataFrame:\n",
            "   TransactionID  CustomerID  Amount        Date\n",
            "0              1         101     250  2025-01-01\n",
            "1              2         102     300  2025-01-02\n",
            "2              3         103     400  2025-01-03\n",
            "3              4         104     500  2025-01-04\n",
            "4              5         101     600  2025-01-05\n",
            "\n",
            "Shape of sales data: (5, 4)\n",
            "\n",
            "Sales data statistics:\n",
            "       TransactionID  CustomerID      Amount\n",
            "count       5.000000     5.00000    5.000000\n",
            "mean        3.000000   102.20000  410.000000\n",
            "std         1.581139     1.30384  143.178211\n",
            "min         1.000000   101.00000  250.000000\n",
            "25%         2.000000   101.00000  300.000000\n",
            "50%         3.000000   102.00000  400.000000\n",
            "75%         4.000000   103.00000  500.000000\n",
            "max         5.000000   104.00000  600.000000\n",
            "Sales dataframe    TransactionID  CustomerID  Amount        Date\n",
            "0              1         101     250  2025-01-01\n",
            "1              2         102     300  2025-01-02\n",
            "2              3         103     400  2025-01-03\n",
            "3              4         104     500  2025-01-04\n",
            "4              5         101     600  2025-01-05\n",
            "customers_df    CustomerID CustomerName  Age         City\n",
            "0         101        Alice   30     New York\n",
            "1         102          Bob   35  Los Angeles\n",
            "2         103      Charlie   40      Chicago\n",
            "3         104        David   25      Houston\n"
          ]
        }
      ]
    },
    {
      "cell_type": "code",
      "source": [
        "#merging data (Sales with customer info)\n",
        "merged_df = pd.merge(sales_df, customers_df, on='CustomerID', how='inner')\n",
        "print(\"\\nMerged DataFrame:\")\n",
        "print(merged_df)\n"
      ],
      "metadata": {
        "colab": {
          "base_uri": "https://localhost:8080/"
        },
        "id": "Tzk2qHV8KKYV",
        "outputId": "851354a9-4728-4141-d36e-a636b91fe8e5"
      },
      "execution_count": null,
      "outputs": [
        {
          "output_type": "stream",
          "name": "stdout",
          "text": [
            "\n",
            "Merged DataFrame:\n",
            "   TransactionID  CustomerID  Amount        Date CustomerName  Age  \\\n",
            "0              1         101     250  2025-01-01        Alice   30   \n",
            "1              2         102     300  2025-01-02          Bob   35   \n",
            "2              3         103     400  2025-01-03      Charlie   40   \n",
            "3              4         104     500  2025-01-04        David   25   \n",
            "4              5         101     600  2025-01-05        Alice   30   \n",
            "\n",
            "          City  \n",
            "0     New York  \n",
            "1  Los Angeles  \n",
            "2      Chicago  \n",
            "3      Houston  \n",
            "4     New York  \n"
          ]
        }
      ]
    },
    {
      "cell_type": "code",
      "source": [
        "#merging data (Sales with customer info)\n",
        "merged_df = pd.merge(sales_df, customers_df, on='CustomerID', how='outer')\n",
        "print(\"\\nMerged DataFrame:\")\n",
        "print(merged_df)\n"
      ],
      "metadata": {
        "colab": {
          "base_uri": "https://localhost:8080/"
        },
        "id": "5kVxiDaXKYSE",
        "outputId": "ad8f9152-3537-4e88-bc60-92f4e59126bc"
      },
      "execution_count": null,
      "outputs": [
        {
          "output_type": "stream",
          "name": "stdout",
          "text": [
            "\n",
            "Merged DataFrame:\n",
            "   TransactionID  CustomerID  Amount        Date CustomerName  Age  \\\n",
            "0              1         101     250  2025-01-01        Alice   30   \n",
            "1              5         101     600  2025-01-05        Alice   30   \n",
            "2              2         102     300  2025-01-02          Bob   35   \n",
            "3              3         103     400  2025-01-03      Charlie   40   \n",
            "4              4         104     500  2025-01-04        David   25   \n",
            "\n",
            "          City  \n",
            "0     New York  \n",
            "1     New York  \n",
            "2  Los Angeles  \n",
            "3      Chicago  \n",
            "4      Houston  \n"
          ]
        }
      ]
    },
    {
      "cell_type": "code",
      "source": [
        "merged_df = pd.merge(sales_df, customers_df, on='CustomerID', how='outer')\n",
        "print(\"\\nMerged DataFrame:\")\n",
        "print(merged_df)\n"
      ],
      "metadata": {
        "colab": {
          "base_uri": "https://localhost:8080/"
        },
        "id": "nlTFGi_cMX6K",
        "outputId": "1361cf63-0f2e-45fd-bf68-3fcad9882c48"
      },
      "execution_count": null,
      "outputs": [
        {
          "output_type": "stream",
          "name": "stdout",
          "text": [
            "\n",
            "Merged DataFrame:\n",
            "   TransactionID  CustomerID  Amount        Date CustomerName  Age  \\\n",
            "0              1         101     250  2025-01-01        Alice   30   \n",
            "1              5         101     600  2025-01-05        Alice   30   \n",
            "2              2         102     300  2025-01-02          Bob   35   \n",
            "3              3         103     400  2025-01-03      Charlie   40   \n",
            "4              4         104     500  2025-01-04        David   25   \n",
            "\n",
            "          City  \n",
            "0     New York  \n",
            "1     New York  \n",
            "2  Los Angeles  \n",
            "3      Chicago  \n",
            "4      Houston  \n"
          ]
        }
      ]
    },
    {
      "cell_type": "code",
      "source": [
        "merged_df = pd.merge(sales_df, customers_df, on='CustomerID', how='right')\n",
        "print(\"\\nMerged DataFrame:\")\n",
        "print(merged_df)\n"
      ],
      "metadata": {
        "colab": {
          "base_uri": "https://localhost:8080/"
        },
        "id": "1SvqCEY6MnEM",
        "outputId": "1b215e55-7953-4773-a550-859e0b516a20"
      },
      "execution_count": null,
      "outputs": [
        {
          "output_type": "stream",
          "name": "stdout",
          "text": [
            "\n",
            "Merged DataFrame:\n",
            "   TransactionID  CustomerID  Amount        Date CustomerName  Age  \\\n",
            "0              1         101     250  2025-01-01        Alice   30   \n",
            "1              5         101     600  2025-01-05        Alice   30   \n",
            "2              2         102     300  2025-01-02          Bob   35   \n",
            "3              3         103     400  2025-01-03      Charlie   40   \n",
            "4              4         104     500  2025-01-04        David   25   \n",
            "\n",
            "          City  \n",
            "0     New York  \n",
            "1     New York  \n",
            "2  Los Angeles  \n",
            "3      Chicago  \n",
            "4      Houston  \n"
          ]
        }
      ]
    },
    {
      "cell_type": "code",
      "source": [
        "merged_df = pd.merge(sales_df, customers_df, on='CustomerID', how='left')\n",
        "print(\"\\nMerged DataFrame:\")\n",
        "print(merged_df)\n"
      ],
      "metadata": {
        "colab": {
          "base_uri": "https://localhost:8080/"
        },
        "id": "BEd0yrEJMxRP",
        "outputId": "a9fe20d8-4e12-42f0-bf43-e176c8657e41"
      },
      "execution_count": null,
      "outputs": [
        {
          "output_type": "stream",
          "name": "stdout",
          "text": [
            "\n",
            "Merged DataFrame:\n",
            "   TransactionID  CustomerID  Amount        Date CustomerName  Age  \\\n",
            "0              1         101     250  2025-01-01        Alice   30   \n",
            "1              2         102     300  2025-01-02          Bob   35   \n",
            "2              3         103     400  2025-01-03      Charlie   40   \n",
            "3              4         104     500  2025-01-04        David   25   \n",
            "4              5         101     600  2025-01-05        Alice   30   \n",
            "\n",
            "          City  \n",
            "0     New York  \n",
            "1  Los Angeles  \n",
            "2      Chicago  \n",
            "3      Houston  \n",
            "4     New York  \n"
          ]
        }
      ]
    },
    {
      "cell_type": "code",
      "source": [
        "\n"
      ],
      "metadata": {
        "id": "iotEpO9jM74i"
      },
      "execution_count": null,
      "outputs": []
    }
  ]
}