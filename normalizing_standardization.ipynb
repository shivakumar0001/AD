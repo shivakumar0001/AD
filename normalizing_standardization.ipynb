{
  "nbformat": 4,
  "nbformat_minor": 0,
  "metadata": {
    "colab": {
      "provenance": [],
      "authorship_tag": "ABX9TyMKMi6ZhcyCp42EOd2p7e0c",
      "include_colab_link": true
    },
    "kernelspec": {
      "name": "python3",
      "display_name": "Python 3"
    },
    "language_info": {
      "name": "python"
    }
  },
  "cells": [
    {
      "cell_type": "markdown",
      "metadata": {
        "id": "view-in-github",
        "colab_type": "text"
      },
      "source": [
        "<a href=\"https://colab.research.google.com/github/shivakumar0001/AD/blob/main/normalizing_standardization.ipynb\" target=\"_parent\"><img src=\"https://colab.research.google.com/assets/colab-badge.svg\" alt=\"Open In Colab\"/></a>"
      ]
    },
    {
      "cell_type": "code",
      "execution_count": 3,
      "metadata": {
        "id": "Bd73dxB36-i8",
        "colab": {
          "base_uri": "https://localhost:8080/"
        },
        "outputId": "50b1e625-763f-474c-95b3-778d52baf0dc"
      },
      "outputs": [
        {
          "output_type": "stream",
          "name": "stdout",
          "text": [
            "Original DataFrame:\n",
            "   size  price  year\n",
            "0   100   1000  2015\n",
            "1   200   2000  2016\n",
            "2   300   3000  2017\n",
            "3   400   4000  2018\n",
            "4   500   5000  2019\n"
          ]
        }
      ],
      "source": [
        "import pandas as pd\n",
        "from sklearn.preprocessing import MinMaxScaler\n",
        "data = {\n",
        "    'size': [100, 200, 300, 400, 500],\n",
        "    'price': [1000, 2000, 3000, 4000, 5000],\n",
        "    'year': [2015, 2016, 2017, 2018, 2019]\n",
        "}\n",
        "#convert df for better visualization\n",
        "df = pd.DataFrame(data)\n",
        "print(\"Original DataFrame:\")\n",
        "print(df)\n",
        "scaler = MinMaxScaler()\n",
        "df_scaled = scaler.fit_transform(df)"
      ]
    },
    {
      "cell_type": "code",
      "source": [
        "scaler = MinMaxScaler()\n",
        "df_scaled = scaler.fit_transform(df)\n",
        "df_scaled = pd.DataFrame(df_scaled, columns=df.columns)\n",
        "print(\"\\nScaled DataFrame:scaled form[0,1]\")\n",
        "print(df_scaled)\n",
        "normalized_data = scaler.fit_transform(df)\n",
        "df_normalized = pd.DataFrame(normalized_data, columns=df.columns)\n",
        "print(\"\\nNormalized DataFrame:scaled from [0,1]\")\n",
        "print(df_normalized)\n",
        "print(df_normalized)"
      ],
      "metadata": {
        "colab": {
          "base_uri": "https://localhost:8080/"
        },
        "id": "sXQVtRMSEpw8",
        "outputId": "1f8c3645-5d69-4a13-f871-83387338ba4a"
      },
      "execution_count": 7,
      "outputs": [
        {
          "output_type": "stream",
          "name": "stdout",
          "text": [
            "\n",
            "Scaled DataFrame:scaled form[0,1]\n",
            "   size  price  year\n",
            "0  0.00   0.00  0.00\n",
            "1  0.25   0.25  0.25\n",
            "2  0.50   0.50  0.50\n",
            "3  0.75   0.75  0.75\n",
            "4  1.00   1.00  1.00\n",
            "\n",
            "Normalized DataFrame:scaled from [0,1]\n",
            "   size  price  year\n",
            "0  0.00   0.00  0.00\n",
            "1  0.25   0.25  0.25\n",
            "2  0.50   0.50  0.50\n",
            "3  0.75   0.75  0.75\n",
            "4  1.00   1.00  1.00\n",
            "   size  price  year\n",
            "0  0.00   0.00  0.00\n",
            "1  0.25   0.25  0.25\n",
            "2  0.50   0.50  0.50\n",
            "3  0.75   0.75  0.75\n",
            "4  1.00   1.00  1.00\n"
          ]
        }
      ]
    },
    {
      "cell_type": "code",
      "source": [
        "print(df_normalized.min())\n",
        "print(df_normalized.max())"
      ],
      "metadata": {
        "colab": {
          "base_uri": "https://localhost:8080/"
        },
        "id": "oEplWpAxGMRi",
        "outputId": "23b1a674-fc2b-4308-8375-0fca2b564a96"
      },
      "execution_count": 8,
      "outputs": [
        {
          "output_type": "stream",
          "name": "stdout",
          "text": [
            "size     0.0\n",
            "price    0.0\n",
            "year     0.0\n",
            "dtype: float64\n",
            "size     1.0\n",
            "price    1.0\n",
            "year     1.0\n",
            "dtype: float64\n"
          ]
        }
      ]
    },
    {
      "cell_type": "code",
      "source": [
        "import pandas as pd\n",
        "from sklearn.preprocessing import MinMaxScaler\n",
        "data = {\n",
        "    'size': [100, 200, 300, 400, 500],\n",
        "    'price': [1000, 2000, 3000, 4000, 5000],\n",
        "    'year': [2015, 2016, 2017, 2018, 2019],\n",
        "    'color': ['red', 'green', 'blue', 'yellow', 'black'],\n",
        "    'material': ['wood', 'metal', 'plastic', 'cotton', 'leather'],\n",
        "    'shape': ['round', 'square', 'triangle', 'rectangle', 'oval'],\n",
        "    'size_category': ['small', 'medium', 'large', 'extra large', 'extra small'],\n",
        "    'price_category': ['low', 'medium', 'high', 'very high', 'very low'],\n",
        "    'year_category': ['old', 'medium', 'new', 'very new', 'very old']\n",
        "}\n",
        "df = pd.DataFrame(data)\n",
        "print(\"Original DataFrame:\")\n",
        "print(df)\n",
        "scaler = StandardScaler()\n",
        "standardized_data = scaler.fit_transform(df)\n",
        "df_standardized = pd.DataFrame(standardized_data, columns=df.columns)\n",
        "print(\"\\nStandardized DataFrame:\")\n",
        "print(df_standardized)"
      ],
      "metadata": {
        "colab": {
          "base_uri": "https://localhost:8080/",
          "height": 454
        },
        "id": "UExX1jtgHKo0",
        "outputId": "84e3e5b4-a670-45fa-cba7-6384daa0c7a5"
      },
      "execution_count": 10,
      "outputs": [
        {
          "output_type": "stream",
          "name": "stdout",
          "text": [
            "Original DataFrame:\n",
            "   size  price  year   color material      shape size_category price_category  \\\n",
            "0   100   1000  2015     red     wood      round         small            low   \n",
            "1   200   2000  2016   green    metal     square        medium         medium   \n",
            "2   300   3000  2017    blue  plastic   triangle         large           high   \n",
            "3   400   4000  2018  yellow   cotton  rectangle   extra large      very high   \n",
            "4   500   5000  2019   black  leather       oval   extra small       very low   \n",
            "\n",
            "  year_category  \n",
            "0           old  \n",
            "1        medium  \n",
            "2           new  \n",
            "3      very new  \n",
            "4      very old  \n"
          ]
        },
        {
          "output_type": "error",
          "ename": "NameError",
          "evalue": "name 'StandardScaler' is not defined",
          "traceback": [
            "\u001b[0;31m---------------------------------------------------------------------------\u001b[0m",
            "\u001b[0;31mNameError\u001b[0m                                 Traceback (most recent call last)",
            "\u001b[0;32m<ipython-input-10-b053b108fdd9>\u001b[0m in \u001b[0;36m<cell line: 0>\u001b[0;34m()\u001b[0m\n\u001b[1;32m     15\u001b[0m \u001b[0mprint\u001b[0m\u001b[0;34m(\u001b[0m\u001b[0;34m\"Original DataFrame:\"\u001b[0m\u001b[0;34m)\u001b[0m\u001b[0;34m\u001b[0m\u001b[0;34m\u001b[0m\u001b[0m\n\u001b[1;32m     16\u001b[0m \u001b[0mprint\u001b[0m\u001b[0;34m(\u001b[0m\u001b[0mdf\u001b[0m\u001b[0;34m)\u001b[0m\u001b[0;34m\u001b[0m\u001b[0;34m\u001b[0m\u001b[0m\n\u001b[0;32m---> 17\u001b[0;31m \u001b[0mscaler\u001b[0m \u001b[0;34m=\u001b[0m \u001b[0mStandardScaler\u001b[0m\u001b[0;34m(\u001b[0m\u001b[0;34m)\u001b[0m\u001b[0;34m\u001b[0m\u001b[0;34m\u001b[0m\u001b[0m\n\u001b[0m\u001b[1;32m     18\u001b[0m \u001b[0mstandardized_data\u001b[0m \u001b[0;34m=\u001b[0m \u001b[0mscaler\u001b[0m\u001b[0;34m.\u001b[0m\u001b[0mfit_transform\u001b[0m\u001b[0;34m(\u001b[0m\u001b[0mdf\u001b[0m\u001b[0;34m)\u001b[0m\u001b[0;34m\u001b[0m\u001b[0;34m\u001b[0m\u001b[0m\n\u001b[1;32m     19\u001b[0m \u001b[0mdf_standardized\u001b[0m \u001b[0;34m=\u001b[0m \u001b[0mpd\u001b[0m\u001b[0;34m.\u001b[0m\u001b[0mDataFrame\u001b[0m\u001b[0;34m(\u001b[0m\u001b[0mstandardized_data\u001b[0m\u001b[0;34m,\u001b[0m \u001b[0mcolumns\u001b[0m\u001b[0;34m=\u001b[0m\u001b[0mdf\u001b[0m\u001b[0;34m.\u001b[0m\u001b[0mcolumns\u001b[0m\u001b[0;34m)\u001b[0m\u001b[0;34m\u001b[0m\u001b[0;34m\u001b[0m\u001b[0m\n",
            "\u001b[0;31mNameError\u001b[0m: name 'StandardScaler' is not defined"
          ]
        }
      ]
    }
  ]
}