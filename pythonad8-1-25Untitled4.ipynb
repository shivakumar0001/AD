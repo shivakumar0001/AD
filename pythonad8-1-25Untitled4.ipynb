{
  "nbformat": 4,
  "nbformat_minor": 0,
  "metadata": {
    "colab": {
      "provenance": [],
      "mount_file_id": "1xZ9dM6v93e9CnYdtqARcS7OO4Pul6TQs",
      "authorship_tag": "ABX9TyPnuqRuUbIKROVACwpgPig0",
      "include_colab_link": true
    },
    "kernelspec": {
      "name": "python3",
      "display_name": "Python 3"
    },
    "language_info": {
      "name": "python"
    }
  },
  "cells": [
    {
      "cell_type": "markdown",
      "metadata": {
        "id": "view-in-github",
        "colab_type": "text"
      },
      "source": [
        "<a href=\"https://colab.research.google.com/github/shivakumar0001/AD/blob/main/pythonad8-1-25Untitled4.ipynb\" target=\"_parent\"><img src=\"https://colab.research.google.com/assets/colab-badge.svg\" alt=\"Open In Colab\"/></a>"
      ]
    },
    {
      "cell_type": "code",
      "source": [
        "import pandas as pd\n",
        "\n",
        "screen_time = [0, 2, 3, 5, 4]\n",
        "stu_name = [\"aa\", \"bb\", \"cc\", \"dd\", \"ee\"]\n",
        "id = [2, 6, 7, 8, 9]\n",
        "\n",
        "dict1 = {\"screen_time\": screen_time, \"stu_name\": stu_name, \"id\": id}\n",
        "print(dict1)\n",
        "df = pd.DataFrame(dict1)\n",
        "print(df)"
      ],
      "metadata": {
        "colab": {
          "base_uri": "https://localhost:8080/"
        },
        "id": "DZF55N8Eq4ZY",
        "outputId": "3b238028-0c0a-4d88-c31e-260d1e0e8549"
      },
      "execution_count": null,
      "outputs": [
        {
          "output_type": "stream",
          "name": "stdout",
          "text": [
            "{'screen_time': [0, 2, 3, 5, 4], 'stu_name': ['aa', 'bb', 'cc', 'dd', 'ee'], 'id': [2, 6, 7, 8, 9]}\n",
            "   screen_time stu_name  id\n",
            "0            0       aa   2\n",
            "1            2       bb   6\n",
            "2            3       cc   7\n",
            "3            5       dd   8\n",
            "4            4       ee   9\n"
          ]
        }
      ]
    },
    {
      "cell_type": "code",
      "source": [
        "list = [1, 2, 3, 4, 5]\n",
        "res = [i+2 for i in list]\n",
        "print(res)"
      ],
      "metadata": {
        "colab": {
          "base_uri": "https://localhost:8080/"
        },
        "id": "-n59k-Scu67g",
        "outputId": "44a14e08-7ec6-48ce-f974-c3fedb3322fb"
      },
      "execution_count": null,
      "outputs": [
        {
          "output_type": "stream",
          "name": "stdout",
          "text": [
            "[3, 4, 5, 6, 7]\n"
          ]
        }
      ]
    },
    {
      "cell_type": "code",
      "source": [
        "list = [1, 2, 3, 4, 5]\n",
        "res = [i+5 for i in list]\n",
        "print(res)"
      ],
      "metadata": {
        "colab": {
          "base_uri": "https://localhost:8080/"
        },
        "id": "9MH160v4vUWW",
        "outputId": "cd3dc0db-a9f6-478c-f5c3-c13bc216f476"
      },
      "execution_count": null,
      "outputs": [
        {
          "output_type": "stream",
          "name": "stdout",
          "text": [
            "[6, 7, 8, 9, 10]\n"
          ]
        }
      ]
    },
    {
      "cell_type": "code",
      "source": [
        "#even numbers\n",
        "list = [1, 2, 3, 4, 5]\n",
        "res = [i+2 for i in list if i % 2 == 0]\n",
        "print(res)"
      ],
      "metadata": {
        "colab": {
          "base_uri": "https://localhost:8080/"
        },
        "id": "e-W8J2DuvsWA",
        "outputId": "067ca027-0859-4cfc-b845-95c231d989bc"
      },
      "execution_count": null,
      "outputs": [
        {
          "output_type": "stream",
          "name": "stdout",
          "text": [
            "[4, 6]\n"
          ]
        }
      ]
    },
    {
      "cell_type": "code",
      "source": [
        "list = [1, 2, 3, 4, 5]\n",
        "res = [i+2 for i in list if i % 2 != 0]\n",
        "print(res)"
      ],
      "metadata": {
        "colab": {
          "base_uri": "https://localhost:8080/"
        },
        "id": "0Dz9_xQbv-Gz",
        "outputId": "f45e81f8-6e3b-497f-f06d-59bf3e8c22e5"
      },
      "execution_count": null,
      "outputs": [
        {
          "output_type": "stream",
          "name": "stdout",
          "text": [
            "[3, 5, 7]\n"
          ]
        }
      ]
    },
    {
      "cell_type": "code",
      "source": [
        "#list comprehension\n",
        "dict1 = {\"a\":12,\"abc\":123,\"def\":45}\n",
        "result = {key:value for key,value in dict1.items()}\n",
        "print(result)"
      ],
      "metadata": {
        "colab": {
          "base_uri": "https://localhost:8080/"
        },
        "id": "OTEowD46wUKJ",
        "outputId": "e19c35ce-dce3-460f-e0a2-df8368725931"
      },
      "execution_count": null,
      "outputs": [
        {
          "output_type": "stream",
          "name": "stdout",
          "text": [
            "{'a': 12, 'abc': 123, 'def': 45}\n"
          ]
        }
      ]
    },
    {
      "cell_type": "markdown",
      "source": [],
      "metadata": {
        "id": "ReWuPzO7xc7Q"
      }
    },
    {
      "cell_type": "code",
      "source": [
        "#interchanging list comprenhsion as value = key\n",
        "dict1 = {\"a\":12,\"abc\":123,\"def\":45}\n",
        "result = {value:key for key,value in dict1.items()}\n",
        "print(result)"
      ],
      "metadata": {
        "colab": {
          "base_uri": "https://localhost:8080/"
        },
        "id": "7cKuRaDVxARk",
        "outputId": "c340f268-d7e0-4c4e-87cc-2b7c222a1540"
      },
      "execution_count": null,
      "outputs": [
        {
          "output_type": "stream",
          "name": "stdout",
          "text": [
            "{12: 'a', 123: 'abc', 45: 'def'}\n"
          ]
        }
      ]
    },
    {
      "cell_type": "markdown",
      "source": [
        "Tuple **comphrension**"
      ],
      "metadata": {
        "id": "F9jU4n0_xzSh"
      }
    },
    {
      "cell_type": "code",
      "source": [
        "import math\n",
        "numbers = [1, 2, 3, 4, 5]\n",
        "res = tuple(math.sqrt(i) for i in numbers)\n",
        "print(result)"
      ],
      "metadata": {
        "colab": {
          "base_uri": "https://localhost:8080/"
        },
        "id": "4jN9rNDpzKnu",
        "outputId": "896e572d-e810-423f-9288-f7dea3c46e8b"
      },
      "execution_count": null,
      "outputs": [
        {
          "output_type": "stream",
          "name": "stdout",
          "text": [
            "<generator object <genexpr> at 0x7b1c3b814580>\n"
          ]
        }
      ]
    },
    {
      "cell_type": "code",
      "source": [
        "#square of a number using dictionay comphrension\n",
        "numbers = [1, 2, 3, 4, 5]\n",
        "result = {i:i*i for i in numbers}\n",
        "print(result)"
      ],
      "metadata": {
        "colab": {
          "base_uri": "https://localhost:8080/"
        },
        "id": "mjyVJ9sdzbHq",
        "outputId": "506ffcbf-e01e-4dd7-e163-13e0ade1dc6e"
      },
      "execution_count": null,
      "outputs": [
        {
          "output_type": "stream",
          "name": "stdout",
          "text": [
            "{1: 1, 2: 4, 3: 9, 4: 16, 5: 25}\n"
          ]
        }
      ]
    },
    {
      "cell_type": "code",
      "source": [
        "#identifying Palindromes in a list of words python\n",
        "word = [\"madam\",\"radar\",\"abc\"]\n",
        "print(\"palindrome strings are \",result)"
      ],
      "metadata": {
        "id": "MPDeHuTr0l9Q",
        "colab": {
          "base_uri": "https://localhost:8080/"
        },
        "outputId": "2ac61373-d340-4858-a86b-88aee961c835"
      },
      "execution_count": 14,
      "outputs": [
        {
          "output_type": "stream",
          "name": "stdout",
          "text": [
            "palindrome strings are  {1: 1, 2: 4, 3: 9, 4: 16, 5: 25}\n"
          ]
        }
      ]
    },
    {
      "cell_type": "code",
      "source": [
        "#identifying Palindromes in a list of words python\n",
        "word = [\"madam\",\"radar\",\"abc\"]\n",
        "result = [i for i in word if i == i[::-1]]\n",
        "print(\"palindrome strings are \",result)"
      ],
      "metadata": {
        "colab": {
          "base_uri": "https://localhost:8080/"
        },
        "id": "lM5lB3Op2fjO",
        "outputId": "9322ace6-5f14-4df9-dd96-7ee68f8ec5ef"
      },
      "execution_count": 15,
      "outputs": [
        {
          "output_type": "stream",
          "name": "stdout",
          "text": [
            "palindrome strings are  ['madam', 'radar']\n"
          ]
        }
      ]
    },
    {
      "cell_type": "code",
      "source": [
        "#identifying Palindromes in a list of words python\n",
        "word = [\"madam\",\"radar\",\"abc\"]\n",
        "result = [i for i in word if i!=i[::-1]]\n",
        "print(\"palindrome strings are \",result)"
      ],
      "metadata": {
        "colab": {
          "base_uri": "https://localhost:8080/"
        },
        "id": "zlBwImi03Q1K",
        "outputId": "94177bba-54e3-4938-f29b-698bf4de3467"
      },
      "execution_count": 16,
      "outputs": [
        {
          "output_type": "stream",
          "name": "stdout",
          "text": [
            "palindrome strings are  ['abc']\n"
          ]
        }
      ]
    },
    {
      "cell_type": "code",
      "source": [
        "#finding common elements between two list\n",
        "list1 = [1, 2, 3, 4, 5]\n",
        "list2 = [3, 4, 5, 6, 7]\n",
        "result = [i for i in list1 if i in list2]\n",
        "print(result)"
      ],
      "metadata": {
        "colab": {
          "base_uri": "https://localhost:8080/"
        },
        "id": "XJ0wRMYg3pOn",
        "outputId": "dfc679bd-f59e-4fd2-86f9-079bad1b5fb4"
      },
      "execution_count": 17,
      "outputs": [
        {
          "output_type": "stream",
          "name": "stdout",
          "text": [
            "[3, 4, 5]\n"
          ]
        }
      ]
    }
  ]
}