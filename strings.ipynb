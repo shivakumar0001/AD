{
  "nbformat": 4,
  "nbformat_minor": 0,
  "metadata": {
    "colab": {
      "provenance": [],
      "authorship_tag": "ABX9TyNs74lcXxSfpRKpxW1rceyQ",
      "include_colab_link": true
    },
    "kernelspec": {
      "name": "python3",
      "display_name": "Python 3"
    },
    "language_info": {
      "name": "python"
    }
  },
  "cells": [
    {
      "cell_type": "markdown",
      "metadata": {
        "id": "view-in-github",
        "colab_type": "text"
      },
      "source": [
        "<a href=\"https://colab.research.google.com/github/shivakumar0001/AD/blob/main/strings.ipynb\" target=\"_parent\"><img src=\"https://colab.research.google.com/assets/colab-badge.svg\" alt=\"Open In Colab\"/></a>"
      ]
    },
    {
      "cell_type": "code",
      "execution_count": 1,
      "metadata": {
        "colab": {
          "base_uri": "https://localhost:8080/"
        },
        "id": "oXzdk1qYzOyz",
        "outputId": "6c6fcc4e-2b56-4079-e715-e0392800cba3"
      },
      "outputs": [
        {
          "output_type": "stream",
          "name": "stdout",
          "text": [
            "do\n",
            "what\n",
            "to\n"
          ]
        }
      ],
      "source": [
        "string = \"do what i say to you\"\n",
        "for word in string.split():\n",
        "  if len(word) % 2 == 0:\n",
        "    print(word)"
      ]
    },
    {
      "cell_type": "code",
      "source": [
        "#convert string into list\n",
        "string = \"do what i say to you\"\n",
        "list = string.split()\n",
        "print(list)"
      ],
      "metadata": {
        "colab": {
          "base_uri": "https://localhost:8080/"
        },
        "id": "u2A03z8P1My8",
        "outputId": "cef733dc-ab83-4511-e57a-651ecefa7133"
      },
      "execution_count": 2,
      "outputs": [
        {
          "output_type": "stream",
          "name": "stdout",
          "text": [
            "['do', 'what', 'i', 'say', 'to', 'you']\n"
          ]
        }
      ]
    },
    {
      "cell_type": "code",
      "source": [
        "string = \"do what i say to you\"\n",
        "for word in string.split():\n",
        "  if len(word) % 2 < 3:\n",
        "    print(word)"
      ],
      "metadata": {
        "colab": {
          "base_uri": "https://localhost:8080/"
        },
        "id": "-0UioO1u24Pm",
        "outputId": "bbcbbed7-2bef-403e-af1d-df023f13db5f"
      },
      "execution_count": 3,
      "outputs": [
        {
          "output_type": "stream",
          "name": "stdout",
          "text": [
            "do\n",
            "what\n",
            "i\n",
            "say\n",
            "to\n",
            "you\n"
          ]
        }
      ]
    },
    {
      "cell_type": "code",
      "source": [
        "string = \"do what i say to you\"\n",
        "for word in string.split():\n",
        "  if len(word)< 3:\n",
        "    print(word[0])"
      ],
      "metadata": {
        "colab": {
          "base_uri": "https://localhost:8080/"
        },
        "id": "6I6lHlkN3SI9",
        "outputId": "612ea214-5b34-43cc-ffff-d74996a32d56"
      },
      "execution_count": 7,
      "outputs": [
        {
          "output_type": "stream",
          "name": "stdout",
          "text": [
            "d\n",
            "i\n",
            "t\n"
          ]
        }
      ]
    },
    {
      "cell_type": "code",
      "source": [
        "string =\"session is going to end\"\n",
        "result = [i for i in string.split() if len(i) % 2 == 0]\n",
        "print(result)"
      ],
      "metadata": {
        "colab": {
          "base_uri": "https://localhost:8080/"
        },
        "id": "jPnkQFZ15FiR",
        "outputId": "1dc7cd6b-ff47-4d93-da91-1b94f2c193cb"
      },
      "execution_count": 9,
      "outputs": [
        {
          "output_type": "stream",
          "name": "stdout",
          "text": [
            "['is', 'to']\n"
          ]
        }
      ]
    },
    {
      "cell_type": "code",
      "source": [
        "string =\"session is going to end\"\n",
        "result = [i for i in string.split()]\n",
        "print(result)"
      ],
      "metadata": {
        "colab": {
          "base_uri": "https://localhost:8080/"
        },
        "id": "BCoQAKib5wT2",
        "outputId": "c96422c2-dc08-4210-8ebd-a79d0526a7e6"
      },
      "execution_count": 10,
      "outputs": [
        {
          "output_type": "stream",
          "name": "stdout",
          "text": [
            "['session', 'is', 'going', 'to', 'end']\n"
          ]
        }
      ]
    },
    {
      "cell_type": "code",
      "source": [
        "string =\"session is going to end\"\n",
        "result = [i for i in string.split() if len(i) >3]\n",
        "print(result)"
      ],
      "metadata": {
        "colab": {
          "base_uri": "https://localhost:8080/"
        },
        "id": "yWZTC4Cg6Hsb",
        "outputId": "b00a7e88-8f4f-46e4-951c-ee46c11d9dc4"
      },
      "execution_count": 15,
      "outputs": [
        {
          "output_type": "stream",
          "name": "stdout",
          "text": [
            "['session', 'going']\n"
          ]
        }
      ]
    },
    {
      "cell_type": "code",
      "source": [
        "string =\"session is going to end\"\n",
        "result = [i for i in string.split() if len(i)>2]\n",
        "print(result)"
      ],
      "metadata": {
        "colab": {
          "base_uri": "https://localhost:8080/"
        },
        "id": "JLzkXgqy6qSW",
        "outputId": "6863cc1f-22b7-443f-8e69-568b14c0b667"
      },
      "execution_count": 20,
      "outputs": [
        {
          "output_type": "stream",
          "name": "stdout",
          "text": [
            "['session', 'going', 'end']\n"
          ]
        }
      ]
    },
    {
      "cell_type": "code",
      "source": [
        "#find the code  to print the string in reverse by using negative indexing\n",
        "string =\"session is going to end\"\n",
        "result = string[::-1]\n",
        "print(result)"
      ],
      "metadata": {
        "colab": {
          "base_uri": "https://localhost:8080/"
        },
        "id": "mS8FGBce8KDC",
        "outputId": "59654444-acae-49ef-baee-82a2e54f5564"
      },
      "execution_count": 22,
      "outputs": [
        {
          "output_type": "stream",
          "name": "stdout",
          "text": [
            "dne ot gniog si noisses\n"
          ]
        }
      ]
    },
    {
      "cell_type": "code",
      "source": [
        "s = \"session is going to end\"\n",
        "s[::-1]"
      ],
      "metadata": {
        "colab": {
          "base_uri": "https://localhost:8080/",
          "height": 36
        },
        "id": "xfv-6J-j8kJ3",
        "outputId": "47431b89-53da-4fb6-ecbc-9d1c022591f0"
      },
      "execution_count": 23,
      "outputs": [
        {
          "output_type": "execute_result",
          "data": {
            "text/plain": [
              "'dne ot gniog si noisses'"
            ],
            "application/vnd.google.colaboratory.intrinsic+json": {
              "type": "string"
            }
          },
          "metadata": {},
          "execution_count": 23
        }
      ]
    },
    {
      "cell_type": "code",
      "source": [
        "#using For loop to print multiple of 3 it has to print \"bizz\"\n",
        "for i in range(1,100):\n",
        "  if i%3==0:\n",
        "    print(\"bizz\")"
      ],
      "metadata": {
        "colab": {
          "base_uri": "https://localhost:8080/"
        },
        "id": "rfyHp7VQ8zt3",
        "outputId": "94a5c500-3035-4aa2-a4b2-70f6615f2a1f"
      },
      "execution_count": 24,
      "outputs": [
        {
          "output_type": "stream",
          "name": "stdout",
          "text": [
            "bizz\n",
            "bizz\n",
            "bizz\n",
            "bizz\n",
            "bizz\n",
            "bizz\n",
            "bizz\n",
            "bizz\n",
            "bizz\n",
            "bizz\n",
            "bizz\n",
            "bizz\n",
            "bizz\n",
            "bizz\n",
            "bizz\n",
            "bizz\n",
            "bizz\n",
            "bizz\n",
            "bizz\n",
            "bizz\n",
            "bizz\n",
            "bizz\n",
            "bizz\n",
            "bizz\n",
            "bizz\n",
            "bizz\n",
            "bizz\n",
            "bizz\n",
            "bizz\n",
            "bizz\n",
            "bizz\n",
            "bizz\n",
            "bizz\n"
          ]
        }
      ]
    },
    {
      "cell_type": "code",
      "source": [
        "#multiple of 5 it has to print \"bigg\" and if it is multiple of 3 and multiple of 5\n",
        "for i in range(1,100):\n",
        "  if i%3==0 and i%5==0:\n",
        "    print(\"bizzbigg\")\n",
        "  elif i%3==0:\n",
        "    print(\"bizz\")"
      ],
      "metadata": {
        "colab": {
          "base_uri": "https://localhost:8080/"
        },
        "id": "-oGC6xxr9VbN",
        "outputId": "aed8ed64-8f01-432b-9c77-f5771f699387"
      },
      "execution_count": 25,
      "outputs": [
        {
          "output_type": "stream",
          "name": "stdout",
          "text": [
            "bizz\n",
            "bizz\n",
            "bizz\n",
            "bizz\n",
            "bizzbigg\n",
            "bizz\n",
            "bizz\n",
            "bizz\n",
            "bizz\n",
            "bizzbigg\n",
            "bizz\n",
            "bizz\n",
            "bizz\n",
            "bizz\n",
            "bizzbigg\n",
            "bizz\n",
            "bizz\n",
            "bizz\n",
            "bizz\n",
            "bizzbigg\n",
            "bizz\n",
            "bizz\n",
            "bizz\n",
            "bizz\n",
            "bizzbigg\n",
            "bizz\n",
            "bizz\n",
            "bizz\n",
            "bizz\n",
            "bizzbigg\n",
            "bizz\n",
            "bizz\n",
            "bizz\n"
          ]
        }
      ]
    },
    {
      "cell_type": "code",
      "source": [],
      "metadata": {
        "id": "1YV9_x4Q-pCM"
      },
      "execution_count": null,
      "outputs": []
    }
  ]
}